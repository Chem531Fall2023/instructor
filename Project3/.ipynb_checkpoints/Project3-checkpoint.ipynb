{
 "cells": [
  {
   "cell_type": "markdown",
   "metadata": {},
   "source": [
    "1. For a 2D particle in a box problem, assume that the box length for x and y dimensions are $a$ and $b$, and $a=2b$. For $n_x$ and $n_y$ in the range 1 to 10, create a table for the dengerate states with the following format:\n",
    "\n",
    "| $\\frac{n_x^2}{a^2}+\\frac{n_y^2}{b^2}$ | $n_x$ | $n_y$ |\n",
    "|----------------------|-------|-------|\n",
    "|                      |       |       |\n",
    "\n",
    "2. For the 2D PIB in problem 1, assume that the mass of the partile is the mass of electron, and that a=10 Bohr, b=5bohr. Use atomic unit in this problem\n",
    "* (1) Create a table of the first 3 energy levels and the corresponding $n_x$ and $n_y$ values\n",
    "* (2) Visualize the 2D PIB wavefunction of the states in 3D plots as surfaces. "
   ]
  },
  {
   "cell_type": "markdown",
   "metadata": {},
   "source": [
    "3. For a 2D harmonic oscillator with potential defined as\n",
    "$$V(x,y)=\\frac{1}{2}\\mu\\omega_1^2x^2 + \\frac{1}{2}\\mu\\omega_2^2y^2 +  \\mu\\omega_{12}^2xy$$\n",
    "\n",
    "Here $\\mu$ equals half the mass of the hydrogen atom (Remember to convert it to electron mass to get atomic unit!) \n",
    "\n",
    "$\\omega_1=0.01822$, $\\omega_2=0.01$, $\\omega_{12}=0.002$ in atomic unit.\n",
    "\n",
    "Try solving the problem with 2D PIB basis. Describe how you will approach the problem. You are not required to write the program.\n",
    "\n",
    "* (1) How would the H-matrix be set up?\n",
    "* (2) How big should the box be?\n"
   ]
  },
  {
   "cell_type": "markdown",
   "metadata": {},
   "source": [
    "4. For a water molecule at equilibrium, its structure is given by\n",
    "\n",
    "|   | x(bohr)       | y(bohr)      | z(bohr)  | Mass       |\n",
    "|---|---------------|--------------|----------|------------|\n",
    "| H | 0.14306D+01   | 0.984836D+00 | 0.00D+00 | 1.007825   |\n",
    "| O | -0.614301D-07 | -0.12411D+00 | 0.00D+00 | 15.9949146 |\n",
    "| H | -0.14306D+01  | 0.984836D+00 | 0.00D+00 | 1.007825   |\n",
    "\n",
    "Here the mass needs to be converted to atomic unit by multiplying by 1822.85.\n",
    "\n",
    "The mass-weighted force constant matrix F is given in ```Fmatrix.csv``` that can be found in this folder.\n",
    "\n",
    "* (1) Determine the eigenvalues $\\Lambda_i$, and eigenvectors of $\\mathbf{F}$\n",
    "* (2) Plot the equilibrium structure of the water molecule with any software or python package you are familiar with\n",
    "* (3) Copy the equilibrium structure of the water molecule in 9 plots, in each plot, indicate one of the 9 normal modes, including the vibrational frequency in cm$^{-1}$. Notice that to convert the eigen values to frequencies, $\\omega_i$ = sqrt(2$\\Lambda_i$) in this case."
   ]
  },
  {
   "cell_type": "code",
   "execution_count": null,
   "metadata": {},
   "outputs": [],
   "source": []
  }
 ],
 "metadata": {
  "kernelspec": {
   "display_name": "Python 3 (ipykernel)",
   "language": "python",
   "name": "python3"
  },
  "language_info": {
   "codemirror_mode": {
    "name": "ipython",
    "version": 3
   },
   "file_extension": ".py",
   "mimetype": "text/x-python",
   "name": "python",
   "nbconvert_exporter": "python",
   "pygments_lexer": "ipython3",
   "version": "3.9.6"
  }
 },
 "nbformat": 4,
 "nbformat_minor": 4
}
