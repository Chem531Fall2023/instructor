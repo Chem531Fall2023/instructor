{
 "cells": [
  {
   "cell_type": "markdown",
   "metadata": {},
   "source": [
    "For the coupled oscillator problem given in Eq(3.1) of *J. Chem. Phys.* **68,** **608** (1978)\n",
    "\n",
    "$$ H = h_1(1) + h_2(2) + \\lambda (q_2^2 q_1 + \\eta q_1^3) $$\n",
    "\n",
    "where \n",
    "\n",
    "$$ h_i(i) = -\\frac{1}{2}\\frac{d^2}{dq_i^2} + \\frac{1}{2}\\omega_i^2q_i^2, i = 1,2 $$\n",
    "\n",
    "Use the parameters in FIG 1 of the paper, i.e.\n",
    "$\\omega_1^2$ =0.29575, $\\omega_2^2$=2.12581, $\\lambda=-0.1116$, $\\eta=0.08414$"
   ]
  },
  {
   "cell_type": "markdown",
   "metadata": {},
   "source": [
    "Use VSCF to solve the ground state energy and wave function of this coupled oscillator problem. Use the product of the ground state of the two harmonic oscillators $h_1$ and $h_2$ as the initial guess. Plot the VSCF solution together with the harmonic approximation solution, as shown in FIG 1 of the paper.\n",
    "\n",
    "(1) When solving each iteration of the VSCF, use the numerical solution of PDE boundary problem as discussed in the class. You can use the provided PDE_BV_HO.ipynb as your starting point.\n",
    "\n",
    "(2) Alternatively, you can use the linear variational theorem. Try using the harmonic oscillator wave functions as the the basis function. You can also use PIB basis function if you like.\n",
    "\n",
    "(3) Another situation of the VSCF is the coupling through momentum, as shown in Eq (2.7). Prove why Eq (2.10a) and (2.10b) are the corresponding VSCF equations. Find out the expression of the expectation value of the total Hamiltonian.\n",
    "\n",
    "(4) Table I compared the results of Exact Quantum, VSCF, semi-classical, and the zeroth order HO result. Please read the corresponding literature and understand how the same problem is solved in each of these 4 methods. Explain the algorithms. Try solving the same problem above with Exact quantum or semi-classical approch.\n",
    "\n",
    "(5) Search literature to understand more about coupled oscillators. This open-ended question can be approached from many different aspects. Please choose one or more aspects and give some in-depeth review.\n",
    "    \n",
    "    * Find examples of coupled oscillators in molecular systems (multiple concrete examples with explanations about what people have learned from these systems). \n",
    "\n",
    "    * What chemical phenomena can be explained by couple oscillators? \n",
    "\n",
    "    * How do we solve higher-dimensional couple ocillator problem? e.g. 3 one-dimensional oscillators coupled together? Or what if you have 2 oscillators coupled together but each oscillator has multiple dimensions( say, two water molecules connected by a hydrogen bond).\n",
    "\n",
    "    * What is the relationship between the coupled oscillator or VSCF and molecular spectroscopy?\n",
    "\n",
    "    * What is the difference between the vibrational SCF and the SCF for electronic structure (say Hartree-Fock)?\n",
    "\n",
    "    * What are some new algorithms to solve VSCF or the coupled oscillator problem? What are their benefits compared to the traditional approach given in (1) or (2)?\n",
    "    \n",
    "    * What is the difference between solving the ground state and the excited state of coupled oscillators? Explain from the algorithm level, and with examples from literatures.\n",
    "    \n",
    "    * If you found other interesting topics from literature related to coupled oscillator or VSCF, you are also welcome to present that.\n"
   ]
  },
  {
   "cell_type": "code",
   "execution_count": null,
   "metadata": {},
   "outputs": [],
   "source": []
  }
 ],
 "metadata": {
  "kernelspec": {
   "display_name": "Python 3 (ipykernel)",
   "language": "python",
   "name": "python3"
  },
  "language_info": {
   "codemirror_mode": {
    "name": "ipython",
    "version": 3
   },
   "file_extension": ".py",
   "mimetype": "text/x-python",
   "name": "python",
   "nbconvert_exporter": "python",
   "pygments_lexer": "ipython3",
   "version": "3.9.6"
  }
 },
 "nbformat": 4,
 "nbformat_minor": 4
}
