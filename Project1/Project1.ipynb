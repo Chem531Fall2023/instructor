{
 "cells": [
  {
   "cell_type": "markdown",
   "metadata": {},
   "source": [
    "### 1. Warm up: Eigenvalue of a matrix\n",
    "\n",
    "Find the eigenvalues and eigenvectors or the A-matrix\n",
    "$$ A = \\begin{pmatrix}\n",
    "1.0 & 0.04 & 0.01 \\\\\n",
    "0.04 & 4.0 & 0.05 \\\\\n",
    "0.01 & 0.05 & 9.0 \\\\\n",
    "\\end{pmatrix}\n",
    "$$"
   ]
  },
  {
   "cell_type": "code",
   "execution_count": 7,
   "metadata": {},
   "outputs": [],
   "source": [
    "# Insert your answer here"
   ]
  },
  {
   "cell_type": "markdown",
   "metadata": {},
   "source": [
    "### 2. Harmonic Oscillator in the basis of PIB\n",
    "\n",
    "For computational work in quantum mechanics/quantum chemistry we use **atomic units** (in some computational software, you may find abberivations as **a.u.**). Will get into these in detail in class. Or you can check these out online. In these units distances are in **bohrs**, masses are in electron mass units (the mass of the electron = 1 in these), energies are **hartrees**. In these unit ℏ = 1 and that is a big help in the Schroedinger equation. We use these units in the following Hamiltonian for the harmonic oscillator\n",
    "\n",
    "\n",
    "$$ H=T+V=-\\frac{1}{2\\mu}\\frac{d^2}{dx^2} + 1/2\\mu\\omega^2 x^2 $$\n",
    "\n",
    "\n",
    "where $\\mu$ equals half the mass of the hydrogen atom and $w$ = 0.01822 and $x$ are in bohrs. We are going to build the corresponding H-matrix using particle\n",
    "in a box basis (with a slight shift). Refer to the figure below\n",
    "\n",
    "<img src=\"include/Project1-fig1.jpg\" width=300 height=300 />\n",
    "\n",
    "\n",
    "So, we have to decide on $L$ the box size and have to do a little shift of the\n",
    "argument of PIB bases. Here’s how it goes. For the original PIB with the boundaries at y=0 and y=L, \n",
    "\n",
    "<img src=\"include/Project1-fig2.png\" width=300 height=300 />\n",
    "\n",
    "we have \n",
    "\n",
    "$$ \\psi_n(y) = \\sqrt{2/L}\\textrm{sin}(n \\pi y/L)\\ \\  \\textrm{for} 0\\le y\\le L$$\n",
    "\n",
    "Now because we want to use the basis of PIB to solve the Harmonic oscillator problem, we want to use a PIB with the box boudaries at $x=-L/2$ and $x=L/2$, as shown below. \n",
    "\n",
    "<img src=\"include/Project1-fig3.png\" width=300 height=300 />\n",
    "\n",
    "Then, let $x=y-L/2$, so for $-L/2 \\le x \\le L/2$\n",
    "\n",
    "$$ \\psi_n(x) = \\sqrt{2/L}\\textrm{sin}(\\frac{n \\pi (x+L/2)}{L}),\\ \\ \\  n=1,2,3\\dots $$\n"
   ]
  },
  {
   "cell_type": "markdown",
   "metadata": {},
   "source": [
    "1. Give the expression for a general H-matrix element $<m|T|n> + <m|V|n>$"
   ]
  },
  {
   "cell_type": "markdown",
   "metadata": {},
   "source": [
    "2. Evaluate <m|T|n>\n"
   ]
  },
  {
   "cell_type": "markdown",
   "metadata": {},
   "source": [
    "3. The evaluation of $<m|x^2|n>$ is of course the “hard” part. And work on this probably using software. Recall:$$<m|x^2|n> = \\frac{2}{L}\\int_{-L/2}^{L/2}dx \\textrm{sin}[m\\pi(x+L/2)/L]x^2\\textrm{sin}[n\\pi(x+L/2)/L]$$"
   ]
  },
  {
   "cell_type": "markdown",
   "metadata": {},
   "source": [
    "4. Once this is set up we need to decide on “reasonable” values of L and the size of the H-matrix to set up and diagonalize. Start with L = 4 and a 10x10 matrix (remember it is symmetric so you don’t need to evaluate every element independently.) Some helpful points about this. We know the exact energy eigenvalues of the HO, they are $E_v = \\hbar\\omega(\\nu+\\frac{1}{2})$. So we know the answer in atomic units. Plot these as horizontal lines on your own plot of the potential in atomic units and let $v$ go up to say 5. The “box” has to encompass the range of the potential where the potential equals $E_v$. (These are called “classical turning points”.) Obviously, the range increases with $v$ so the size of box will have to increase as we try to describe higher and higher vibrational states."
   ]
  },
  {
   "cell_type": "markdown",
   "metadata": {},
   "source": [
    "5. Pick a “reasonable” size H-matrix (at least 20x20) and investigate 5 or so values of L to get the first six eigenvalues. (Use the classical turning points for $v$ = 5 to get the minimum value of L) and plot the results vs L for $v$ up to 5. Comment on the results and indicate the exact energies on the plot."
   ]
  },
  {
   "cell_type": "markdown",
   "metadata": {},
   "source": [
    "6. Using the “optimum” L determine the eigenfunctions and plot them for v up to 5. Comment on the number of oscillations and also the symmetry of them."
   ]
  },
  {
   "cell_type": "code",
   "execution_count": 6,
   "metadata": {},
   "outputs": [],
   "source": [
    "# Insert your answer here"
   ]
  },
  {
   "cell_type": "code",
   "execution_count": null,
   "metadata": {},
   "outputs": [],
   "source": []
  }
 ],
 "metadata": {
  "kernelspec": {
   "display_name": "Python 3",
   "language": "python",
   "name": "python3"
  },
  "language_info": {
   "codemirror_mode": {
    "name": "ipython",
    "version": 3
   },
   "file_extension": ".py",
   "mimetype": "text/x-python",
   "name": "python",
   "nbconvert_exporter": "python",
   "pygments_lexer": "ipython3",
   "version": "3.8.3"
  }
 },
 "nbformat": 4,
 "nbformat_minor": 4
}
